{
 "cells": [
  {
   "cell_type": "code",
   "execution_count": 6,
   "id": "909beff8-f60a-4cb6-8660-4286fdcbb88a",
   "metadata": {},
   "outputs": [],
   "source": [
    "import PIL\n",
    "import json\n",
    "import pandas as pd\n",
    "import os\n",
    "import ast\n",
    "import numpy as np\n",
    "import cv2\n",
    "from tqdm import tqdm\n",
    "import random\n",
    "\n",
    "from sklearn.model_selection import train_test_split\n",
    "\n",
    "import torch\n",
    "from torch.utils.data import Dataset, DataLoader\n",
    "import torchvision\n",
    "from torchvision.models.detection.faster_rcnn import FastRCNNPredictor\n",
    "import torch.nn as nn\n",
    "\n",
    "import albumentations as A\n",
    "from albumentations.pytorch import ToTensorV2"
   ]
  },
  {
   "cell_type": "code",
   "execution_count": 7,
   "id": "66b14b40-d6ee-459f-868d-b651e5783d45",
   "metadata": {},
   "outputs": [],
   "source": [
    "def seed_everything(seed_value=4995):\n",
    "    os.environ['PYTHONHASHSEED'] = str(seed_value)\n",
    "    random.seed(seed_value)\n",
    "    np.random.seed(seed_value)\n",
    "    torch.manual_seed(seed_value)\n",
    "    torch.cuda.manual_seed_all(seed_value)\n",
    "\n",
    "    torch.backends.cudnn.deterministic = True\n",
    "    torch.backends.cudnn.benchmark = False\n",
    "    \n",
    "seed_everything()"
   ]
  },
  {
   "cell_type": "code",
   "execution_count": 8,
   "id": "a5f890b7-842d-4595-b253-e31137a2aaf4",
   "metadata": {},
   "outputs": [],
   "source": [
    "DEVICE = torch.device(\"cuda\" if torch.cuda.is_available() else \"cpu\")"
   ]
  },
  {
   "cell_type": "code",
   "execution_count": 9,
   "id": "746e677c-dd9c-428f-8632-a29c625c1a60",
   "metadata": {},
   "outputs": [
    {
     "data": {
      "text/plain": [
       "device(type='cuda')"
      ]
     },
     "execution_count": 9,
     "metadata": {},
     "output_type": "execute_result"
    }
   ],
   "source": [
    "DEVICE"
   ]
  },
  {
   "cell_type": "code",
   "execution_count": 10,
   "id": "9997d484-af1b-45b4-9837-adb39d6bce85",
   "metadata": {},
   "outputs": [],
   "source": [
    "class HandwrittenDataset(Dataset):\n",
    "    \n",
    "    def __init__(self, df, visible_char_mapping, transform = None, image_resize = (1000,500)):\n",
    "        \n",
    "        self.data = list(df.itertuples(index=False))\n",
    "        self.transform = transform\n",
    "        self.to_tensor = torchvision.transforms.ToTensor()\n",
    "        \n",
    "        self.visible_char_mapping = visible_char_mapping\n",
    "        \n",
    "    def __len__(self):\n",
    "        return len(self.data)\n",
    "    \n",
    "    def __getitem__(self, index):\n",
    "        \n",
    "        sample = self.data[index]\n",
    "        \n",
    "        f_name = sample.filename\n",
    "        image = PIL.Image.open(f_name).convert(\"RGB\")\n",
    "        #image = cv2.imread(f_name)\n",
    "        #image = cv2.cvtColor(image, cv2.COLOR_BGR2RGB)\n",
    "        #image = cv2.resize(image, (800, 376))\n",
    "        #image_width = image.shape[1]\n",
    "        #image_height = image.shape[0]\n",
    "        \n",
    "        image = np.asarray(image)\n",
    "        #height = sample.height\n",
    "        #width = sample.width\n",
    "        visible_latex_chars = sample.visible_latex_chars\n",
    "        xmaxs = np.array(sample.xmaxs)\n",
    "        xmins = np.array(sample.xmins)\n",
    "        ymaxs = np.array(sample.ymaxs)\n",
    "        ymins = np.array(sample.ymins)\n",
    "        \n",
    "        #xmins = (xmins/image_width)*1401\n",
    "        #xmaxs = (xmaxs/image_width)*1401\n",
    "        #ymins = (ymins/image_height)*376\n",
    "        #ymaxs = (ymaxs/image_height)*376\n",
    "        \n",
    "        boxes = []\n",
    "        for box in zip(xmins, ymins, xmaxs, ymaxs):\n",
    "            boxes.append(list(box))\n",
    "        \n",
    "        boxes = torch.as_tensor(boxes, dtype = torch.float32)\n",
    "        labels = [*map(self.visible_char_mapping.get, visible_latex_chars)]\n",
    "        labels = torch.as_tensor(labels, dtype = torch.int64)\n",
    "        if self.transform:\n",
    "            transformed_sample = self.transform(image =  image,\n",
    "                                     bboxes = boxes,\n",
    "                                     labels = labels)\n",
    "            image = self.to_tensor(transformed_sample['image'])\n",
    "            #image = transformed_sample['image']\n",
    "            boxes = torch.Tensor(transformed_sample['bboxes'])\n",
    "        else:\n",
    "            image = self.to_tensor(image)\n",
    "            boxes = torch.Tensor(boxes)\n",
    "       \n",
    "        targets = {\n",
    "            'boxes':boxes,\n",
    "            'labels':labels\n",
    "        }\n",
    "\n",
    "        return image, targets\n",
    "    \n",
    "def collate_fn(batch):\n",
    "    \"\"\"\n",
    "    To handle the data loading as different images may have different number \n",
    "    of objects and to handle varying size tensors as well.\n",
    "    \"\"\"\n",
    "    return tuple(zip(*batch))"
   ]
  },
  {
   "cell_type": "code",
   "execution_count": 11,
   "id": "cb4774bc-a7e8-4650-b432-2784bc9048d5",
   "metadata": {},
   "outputs": [],
   "source": [
    "def create_data_frame(raw_data, image_path):\n",
    "    \"\"\"\n",
    "    Create a Pandas DataFrame and a list for all the latex expressions\n",
    "\n",
    "    Parameters\n",
    "    ----------\n",
    "    raw_data : list\n",
    "        A list that contains all the image information\n",
    "\n",
    "    Returns\n",
    "    ----------\n",
    "    df: DataFrame\n",
    "        A Pandas DataFrame for running the analysis\n",
    "    all_latex_lst: list\n",
    "        A list for all the tokens, used for creating the token distribution\n",
    "    \"\"\"\n",
    "    data = {}\n",
    "    data['latex'] = []\n",
    "    data['seq_len'] = []\n",
    "    data['latex_string'] = []\n",
    "    data['visible_latex_chars'] = []\n",
    "    data['filename'] = []\n",
    "    data['width'] = []\n",
    "    data['height'] = []\n",
    "    data['xmins_raw'] = []\n",
    "    data['xmaxs_raw'] = []\n",
    "    data['ymins_raw'] = []\n",
    "    data['ymaxs_raw'] = []\n",
    "    data['xmins'] = []\n",
    "    data['xmaxs'] = []\n",
    "    data['ymins'] = []\n",
    "    data['ymaxs'] = []\n",
    "    \n",
    "    for image in raw_data:\n",
    "        data['latex_string'].append(image['latex'])\n",
    "        data['latex'].append(image['image_data']['full_latex_chars'])\n",
    "        data['seq_len'].append(len(image['image_data']['full_latex_chars']))\n",
    "        data['visible_latex_chars'].append(image['image_data']['visible_latex_chars'])\n",
    "        data['filename'].append(os.path.join(image_path, image['filename']))\n",
    "        data['xmins_raw'].append(image['image_data']['xmins_raw'])\n",
    "        data['xmaxs_raw'].append(image['image_data']['xmaxs_raw'])\n",
    "        data['ymins_raw'].append(image['image_data']['ymins_raw'])\n",
    "        data['ymaxs_raw'].append(image['image_data']['ymaxs_raw'])\n",
    "        data['xmins'].append(image['image_data']['xmins'])\n",
    "        data['xmaxs'].append(image['image_data']['xmaxs'])\n",
    "        data['ymins'].append(image['image_data']['ymins'])\n",
    "        data['ymaxs'].append(image['image_data']['ymaxs'])\n",
    "        \n",
    "        data['width'].append(image['image_data']['width'])\n",
    "        data['height'].append(image['image_data']['height'])\n",
    "\n",
    "\n",
    "    df = pd.DataFrame.from_dict(data)\n",
    "    return df"
   ]
  },
  {
   "cell_type": "code",
   "execution_count": null,
   "id": "3491211f-4d45-4e40-9cda-55e4e7519a41",
   "metadata": {},
   "outputs": [],
   "source": [
    "lab = []\n",
    "for o in a: lab+=o[\"image_data\"][\"visible_latex_chars\"]"
   ]
  },
  {
   "cell_type": "code",
   "execution_count": null,
   "id": "e8676cef-70f8-4180-9f23-1288d9033038",
   "metadata": {},
   "outputs": [],
   "source": [
    "labels= sorted(list(set(lab)))"
   ]
  },
  {
   "cell_type": "code",
   "execution_count": 46,
   "id": "cedd4460-9d4a-4da0-b259-94a3198e59b9",
   "metadata": {},
   "outputs": [],
   "source": [
    "l = []\n",
    "for i in df['visible_latex_chars'].tolist():\n",
    "    for j in i:\n",
    "        l.append(j)"
   ]
  },
  {
   "cell_type": "code",
   "execution_count": 48,
   "id": "af799bef-4835-4901-ac9c-a1272837d5a5",
   "metadata": {},
   "outputs": [
    {
     "data": {
      "text/plain": [
       "54"
      ]
     },
     "execution_count": 48,
     "metadata": {},
     "output_type": "execute_result"
    }
   ],
   "source": [
    "len(set(l))"
   ]
  },
  {
   "cell_type": "code",
   "execution_count": 34,
   "id": "079aea91-293d-4f14-bcc4-e2848d5d38e3",
   "metadata": {},
   "outputs": [],
   "source": [
    "def load_data(path = 'data/all_data.csv'):\n",
    "    if not os.path.isfile(path):\n",
    "        df = pd.DataFrame()\n",
    "        for i in range(1,11):\n",
    "            print(f'data/batch_{i}/JSON/kaggle_data_{i}.json')\n",
    "            with open(file=f'data/batch_{i}/JSON/kaggle_data_{i}.json') as f:\n",
    "                raw_data = json.load(f)\n",
    "            sub_df = create_data_frame(raw_data, f'data/batch_{i}/background_images')\n",
    "            df = df.append(sub_df)\n",
    "        df.to_csv(path)\n",
    "        df = pd.read_csv(path).drop(columns = 'Unnamed: 0')\n",
    "    else:\n",
    "        df = pd.read_csv(path).drop(columns = 'Unnamed: 0')\n",
    "\n",
    "    list_cols = ['xmins_raw', 'xmaxs_raw', 'ymins_raw', 'ymaxs_raw', 'xmins', 'xmaxs', 'ymins', 'ymaxs']\n",
    "    for c in list_cols:\n",
    "        df[c] = df[c].apply(json.loads)\n",
    "\n",
    "    df['latex'] = df['latex'].replace(\"'\\\\\\\\\", \"'\\\\\")\n",
    "    df['latex'] = df['latex'].apply(ast.literal_eval)\n",
    "    \n",
    "    #vocab = df['latex'].explode().unique().tolist()[0]\n",
    "    df['visible_latex_chars'] = df['visible_latex_chars'].replace(\"'\\\\\\\\\", \"'\\\\\")\n",
    "    df['visible_latex_chars'] = df['visible_latex_chars'].apply(ast.literal_eval)\n",
    "    \n",
    "    with open(file=f'data/extras/visible_char_map.json') as f:\n",
    "        visible_char_map = json.load(f)\n",
    "    \n",
    "    return df, visible_char_map"
   ]
  },
  {
   "cell_type": "code",
   "execution_count": 35,
   "id": "4fa33a7f-f4cc-40c3-b183-9e66081447c5",
   "metadata": {},
   "outputs": [],
   "source": [
    "def split_dataframe(df):\n",
    "    X_train, X_test = train_test_split(df, test_size=0.20, random_state=4995)\n",
    "    \n",
    "    return X_train, X_test\n",
    "\n",
    "def prepare_data(batch_size = 32):\n",
    "    \n",
    "    df, visible_char_map = load_data()\n",
    "    \n",
    "    num_classes = len(visible_char_map) + 1\n",
    "    \n",
    "    return df, visible_char_map, num_classes\n",
    "\n",
    "def build_dataloaders(df, visible_char_map, batch_size = 32):\n",
    "    train_transforms = A.Compose([\n",
    "      # A.Flip(0.5),\n",
    "        A.Resize(896, 896), \n",
    "        A.ShiftScaleRotate(rotate_limit = 10)\n",
    "        #A.Normalize(),\n",
    "     #   A.RandomRotate90(0.5),\n",
    "     #   A.MotionBlur(p=0.2),\n",
    "     #   A.MedianBlur(blur_limit=3, p=0.1),\n",
    "     #   A.Blur(blur_limit=3, p=0.1),\n",
    "        #ToTensorV2(p=1),\n",
    "        ],\n",
    "        bbox_params={\n",
    "                'format': 'albumentations',\n",
    "                'label_fields': ['labels']\n",
    "    })\n",
    "    \n",
    "    val_transforms = A.Compose([\n",
    "        A.Resize(896, 896), \n",
    "        A.ShiftScaleRotate(rotate_limit = 10)\n",
    "\n",
    "        #A.Normalize(),\n",
    "    ], bbox_params={\n",
    "        'format': 'albumentations', \n",
    "        'label_fields': ['labels']\n",
    "    })\n",
    "    \n",
    "    train_df, val_df = split_dataframe(df)\n",
    "    \n",
    "    train_dataset = HandwrittenDataset(train_df, visible_char_map, transform = train_transforms)\n",
    "    train_loader = DataLoader(train_dataset, batch_size = batch_size, shuffle = True, num_workers=0, collate_fn = collate_fn)\n",
    "    \n",
    "    val_dataset = HandwrittenDataset(val_df, visible_char_map)\n",
    "    val_loader = DataLoader(val_dataset, batch_size = batch_size, shuffle = False, num_workers=0, collate_fn = collate_fn)\n",
    "    \n",
    "    return train_loader, val_loader"
   ]
  },
  {
   "cell_type": "code",
   "execution_count": 36,
   "id": "a3d065a4-829e-405e-9f61-5ab4a6b4ba46",
   "metadata": {},
   "outputs": [],
   "source": [
    "def build_model(num_classes, model_path = None):\n",
    "    if not model_path:\n",
    "        model = torchvision.models.detection.fasterrcnn_resnet50_fpn(pretrained = True, pretrained_backbone = True)\n",
    "        in_features = model.roi_heads.box_predictor.cls_score.in_features\n",
    "        model.roi_heads.box_predictor = FastRCNNPredictor(in_features, num_classes)\n",
    "        #model.roi_heads.box_predictor.bbox_pred = torch.nn.Linear(\n",
    "        #    in_features=in_features, out_features=num_classes*4, bias=True\n",
    "        #)\n",
    "\n",
    "    else:\n",
    "        model = torchvision.models.detection.fasterrcnn_resnet50_fpn()\n",
    "        in_features = model.roi_heads.box_predictor.cls_score.in_features\n",
    "        model.roi_heads.box_predictor = FastRCNNPredictor(in_features, num_classes)\n",
    "        model.load_state_dict(torch.load(model_path))\n",
    "        \n",
    "        \n",
    "    model = model.to(DEVICE)\n",
    "    return model"
   ]
  },
  {
   "cell_type": "code",
   "execution_count": 37,
   "id": "b91f55a7-3b56-48e9-9aff-7a8141257988",
   "metadata": {
    "tags": []
   },
   "outputs": [],
   "source": [
    "df, visible_char_map, num_classes = prepare_data()"
   ]
  },
  {
   "cell_type": "code",
   "execution_count": 38,
   "id": "a8579e3e-be8b-4d31-94c7-d01465bf8149",
   "metadata": {},
   "outputs": [],
   "source": [
    "from sklearn.utils import shuffle\n",
    "red_df = shuffle(df, random_state = 1)"
   ]
  },
  {
   "cell_type": "code",
   "execution_count": 39,
   "id": "f4093901-13d4-4c3f-ac6e-be68c1e97c5c",
   "metadata": {},
   "outputs": [],
   "source": [
    "red_df = red_df[:5000]"
   ]
  },
  {
   "cell_type": "code",
   "execution_count": 18,
   "id": "0820b847-2d98-4d4c-a134-16e79fcf0166",
   "metadata": {},
   "outputs": [],
   "source": [
    "train_loader, val_loader = build_dataloaders(red_df, visible_char_map, batch_size = 16)"
   ]
  },
  {
   "cell_type": "code",
   "execution_count": 41,
   "id": "cee24c0b-b68a-40a0-83b4-64a19e38ae0d",
   "metadata": {},
   "outputs": [
    {
     "data": {
      "text/plain": [
       "92"
      ]
     },
     "execution_count": 41,
     "metadata": {},
     "output_type": "execute_result"
    }
   ],
   "source": [
    "num_classes"
   ]
  },
  {
   "cell_type": "code",
   "execution_count": 40,
   "id": "2a14f54d-bded-4440-a3f0-efdb293b5581",
   "metadata": {},
   "outputs": [],
   "source": [
    "model = build_model(num_classes)"
   ]
  },
  {
   "cell_type": "code",
   "execution_count": 51,
   "id": "51a4b9b4-3da7-4e04-b007-99eb1a86efd7",
   "metadata": {
    "tags": []
   },
   "outputs": [],
   "source": [
    "for n, param in model.named_parameters():\n",
    "    if \"roi_heads.box_predictor\" not in n:\n",
    "        param.requires_grad = False"
   ]
  },
  {
   "cell_type": "code",
   "execution_count": 29,
   "id": "e59274a4-5527-40b3-9d22-0968daf462c0",
   "metadata": {},
   "outputs": [],
   "source": [
    "def train_loop(model, train_loader, optimizer, scheduler):\n",
    "    model = model.train()\n",
    "    \n",
    "    train_loss_list = []\n",
    "    \n",
    "    for i, data in enumerate(tqdm(train_loader)):\n",
    "        optimizer.zero_grad()\n",
    "        images, targets = data\n",
    "        \n",
    "        images = list(image.to(DEVICE) for image in images)\n",
    "        targets = [{k: v.to(DEVICE) for k, v in t.items()} for t in targets]\n",
    "        \n",
    "        loss = model(images, targets)\n",
    "        \n",
    "        losses = sum(l for l in loss.values())\n",
    "        \n",
    "        loss_value = losses.item()\n",
    "        train_loss_list.append(loss_value)\n",
    "        \n",
    "        losses.backward()\n",
    "        optimizer.step()\n",
    "        scheduler.step()\n",
    "        \n",
    "        if i % 10 == 0:\n",
    "            print(loss_value)\n",
    "    \n",
    "    return np.mean(train_loss_list)"
   ]
  },
  {
   "cell_type": "code",
   "execution_count": 30,
   "id": "a43694ea-a96a-4dfb-912e-0ddd3964258a",
   "metadata": {},
   "outputs": [],
   "source": [
    "def val_loop(model, val_loader):\n",
    "    \n",
    "    #model = model.eval()\n",
    "    model = model.train()\n",
    "    val_loss_list = []\n",
    "    \n",
    "    with torch.no_grad():\n",
    "        for i, data in enumerate(tqdm(val_loader)):\n",
    "            images, targets = data\n",
    "\n",
    "            images = list(image.to(DEVICE) for image in images)\n",
    "            targets = [{k: v.to(DEVICE) for k, v in t.items()} for t in targets]\n",
    "\n",
    "            loss = model(images, targets)\n",
    "\n",
    "            losses = sum(l for l in loss.values())\n",
    "\n",
    "            loss_value = losses.item()\n",
    "            val_loss_list.append(loss_value)\n",
    "            \n",
    "    loss_mean = np.mean(val_loss_list)\n",
    "    print(\"Eval loss:\",loss_mean)\n",
    "        \n",
    "    return loss_mean"
   ]
  },
  {
   "cell_type": "code",
   "execution_count": 21,
   "id": "476383cd-871f-4e62-9316-62ba817c5b4f",
   "metadata": {},
   "outputs": [],
   "source": [
    "def train(model, train_loader, val_loader, optimizer, scheduler, epochs = 5,  model_name = 'fastrcnn', save_path = 'models'):\n",
    "    \n",
    "    train_losses = []\n",
    "    val_losses = []\n",
    "    \n",
    "    best_val_loss = None\n",
    "    \n",
    "    for epoch in range(epochs):\n",
    "        train_losses.append(train_loop(model, train_loader, optimizer, scheduler))\n",
    "        print(\"Train loss:\",train_losses[-1])\n",
    "        val_loss = val_loop(model, val_loader)\n",
    "        val_losses.append(val_loss)\n",
    "        #scheduler.step()\n",
    "        \n",
    "        if not best_val_loss:\n",
    "            best_val_loss = val_loss\n",
    "            \n",
    "            model_name_pt = model_name+'.pt'\n",
    "            PATH = os.path.join(save_path, model_name_pt)\n",
    "            model.to('cpu')\n",
    "            #torch.save(model.state_dict(), PATH)\n",
    "            torch.save({\n",
    "            'epoch': epoch+1,\n",
    "            'model_state_dict': model.state_dict(),\n",
    "            'optimizer_state_dict': optimizer.state_dict(),\n",
    "            }, PATH)\n",
    "            model.to(DEVICE)\n",
    "            \n",
    "        else:\n",
    "            if val_loss < best_val_loss:\n",
    "                best_val_loss = val_loss\n",
    "                \n",
    "                model_name_pt = model_name+'.pt'\n",
    "                PATH = os.path.join(save_path, model_name_pt)\n",
    "                model.to('cpu')\n",
    "                torch.save(model.state_dict(), PATH)\n",
    "                model.to(DEVICE)\n",
    "    \n",
    "    return train_losses, val_losses"
   ]
  },
  {
   "cell_type": "code",
   "execution_count": null,
   "id": "5fb6dfa3-e60c-4b9b-b86a-d0d88ffbdd18",
   "metadata": {
    "scrolled": true,
    "tags": []
   },
   "outputs": [
    {
     "name": "stderr",
     "output_type": "stream",
     "text": [
      "  0%|                                                                                                                                   | 0/250 [00:01<?, ?it/s]\n"
     ]
    },
    {
     "ename": "RuntimeError",
     "evalue": "CUDA out of memory. Tried to allocate 626.00 MiB (GPU 0; 14.76 GiB total capacity; 12.85 GiB already allocated; 499.75 MiB free; 13.10 GiB reserved in total by PyTorch) If reserved memory is >> allocated memory try setting max_split_size_mb to avoid fragmentation.  See documentation for Memory Management and PYTORCH_CUDA_ALLOC_CONF",
     "output_type": "error",
     "traceback": [
      "\u001b[0;31m---------------------------------------------------------------------------\u001b[0m",
      "\u001b[0;31mRuntimeError\u001b[0m                              Traceback (most recent call last)",
      "\u001b[0;32m/tmp/ipykernel_2898/1068581487.py\u001b[0m in \u001b[0;36m<module>\u001b[0;34m\u001b[0m\n\u001b[1;32m      2\u001b[0m \u001b[0;31m#scheduler = torch.optim.lr_scheduler.MultiStepLR(optimizer, milestones=[2,4], gamma = 0.1)\u001b[0m\u001b[0;34m\u001b[0m\u001b[0;34m\u001b[0m\u001b[0;34m\u001b[0m\u001b[0m\n\u001b[1;32m      3\u001b[0m \u001b[0mscheduler\u001b[0m \u001b[0;34m=\u001b[0m \u001b[0mtorch\u001b[0m\u001b[0;34m.\u001b[0m\u001b[0moptim\u001b[0m\u001b[0;34m.\u001b[0m\u001b[0mlr_scheduler\u001b[0m\u001b[0;34m.\u001b[0m\u001b[0mCosineAnnealingLR\u001b[0m\u001b[0;34m(\u001b[0m\u001b[0moptimizer\u001b[0m\u001b[0;34m,\u001b[0m \u001b[0mT_max\u001b[0m \u001b[0;34m=\u001b[0m \u001b[0mlen\u001b[0m\u001b[0;34m(\u001b[0m\u001b[0mtrain_loader\u001b[0m\u001b[0;34m)\u001b[0m \u001b[0;34m*\u001b[0m \u001b[0;36m5\u001b[0m\u001b[0;34m)\u001b[0m\u001b[0;34m\u001b[0m\u001b[0;34m\u001b[0m\u001b[0m\n\u001b[0;32m----> 4\u001b[0;31m \u001b[0mv\u001b[0m \u001b[0;34m=\u001b[0m \u001b[0mtrain\u001b[0m\u001b[0;34m(\u001b[0m\u001b[0mmodel\u001b[0m\u001b[0;34m,\u001b[0m \u001b[0mtrain_loader\u001b[0m\u001b[0;34m,\u001b[0m \u001b[0mval_loader\u001b[0m\u001b[0;34m,\u001b[0m \u001b[0moptimizer\u001b[0m\u001b[0;34m,\u001b[0m \u001b[0mscheduler\u001b[0m\u001b[0;34m,\u001b[0m \u001b[0mepochs\u001b[0m \u001b[0;34m=\u001b[0m \u001b[0;36m5\u001b[0m\u001b[0;34m)\u001b[0m\u001b[0;34m\u001b[0m\u001b[0;34m\u001b[0m\u001b[0m\n\u001b[0m",
      "\u001b[0;32m/tmp/ipykernel_2898/3858058813.py\u001b[0m in \u001b[0;36mtrain\u001b[0;34m(model, train_loader, val_loader, optimizer, scheduler, epochs, model_name, save_path)\u001b[0m\n\u001b[1;32m      7\u001b[0m \u001b[0;34m\u001b[0m\u001b[0m\n\u001b[1;32m      8\u001b[0m     \u001b[0;32mfor\u001b[0m \u001b[0mepoch\u001b[0m \u001b[0;32min\u001b[0m \u001b[0mrange\u001b[0m\u001b[0;34m(\u001b[0m\u001b[0mepochs\u001b[0m\u001b[0;34m)\u001b[0m\u001b[0;34m:\u001b[0m\u001b[0;34m\u001b[0m\u001b[0;34m\u001b[0m\u001b[0m\n\u001b[0;32m----> 9\u001b[0;31m         \u001b[0mtrain_losses\u001b[0m\u001b[0;34m.\u001b[0m\u001b[0mappend\u001b[0m\u001b[0;34m(\u001b[0m\u001b[0mtrain_loop\u001b[0m\u001b[0;34m(\u001b[0m\u001b[0mmodel\u001b[0m\u001b[0;34m,\u001b[0m \u001b[0mtrain_loader\u001b[0m\u001b[0;34m,\u001b[0m \u001b[0moptimizer\u001b[0m\u001b[0;34m,\u001b[0m \u001b[0mscheduler\u001b[0m\u001b[0;34m)\u001b[0m\u001b[0;34m)\u001b[0m\u001b[0;34m\u001b[0m\u001b[0;34m\u001b[0m\u001b[0m\n\u001b[0m\u001b[1;32m     10\u001b[0m         \u001b[0mprint\u001b[0m\u001b[0;34m(\u001b[0m\u001b[0;34m\"Train loss:\"\u001b[0m\u001b[0;34m,\u001b[0m\u001b[0mtrain_losses\u001b[0m\u001b[0;34m[\u001b[0m\u001b[0;34m-\u001b[0m\u001b[0;36m1\u001b[0m\u001b[0;34m]\u001b[0m\u001b[0;34m)\u001b[0m\u001b[0;34m\u001b[0m\u001b[0;34m\u001b[0m\u001b[0m\n\u001b[1;32m     11\u001b[0m         \u001b[0mval_loss\u001b[0m \u001b[0;34m=\u001b[0m \u001b[0mval_loop\u001b[0m\u001b[0;34m(\u001b[0m\u001b[0mmodel\u001b[0m\u001b[0;34m,\u001b[0m \u001b[0mval_loader\u001b[0m\u001b[0;34m)\u001b[0m\u001b[0;34m\u001b[0m\u001b[0;34m\u001b[0m\u001b[0m\n",
      "\u001b[0;32m/tmp/ipykernel_2898/2595218923.py\u001b[0m in \u001b[0;36mtrain_loop\u001b[0;34m(model, train_loader, optimizer, scheduler)\u001b[0m\n\u001b[1;32m     11\u001b[0m         \u001b[0mtargets\u001b[0m \u001b[0;34m=\u001b[0m \u001b[0;34m[\u001b[0m\u001b[0;34m{\u001b[0m\u001b[0mk\u001b[0m\u001b[0;34m:\u001b[0m \u001b[0mv\u001b[0m\u001b[0;34m.\u001b[0m\u001b[0mto\u001b[0m\u001b[0;34m(\u001b[0m\u001b[0mDEVICE\u001b[0m\u001b[0;34m)\u001b[0m \u001b[0;32mfor\u001b[0m \u001b[0mk\u001b[0m\u001b[0;34m,\u001b[0m \u001b[0mv\u001b[0m \u001b[0;32min\u001b[0m \u001b[0mt\u001b[0m\u001b[0;34m.\u001b[0m\u001b[0mitems\u001b[0m\u001b[0;34m(\u001b[0m\u001b[0;34m)\u001b[0m\u001b[0;34m}\u001b[0m \u001b[0;32mfor\u001b[0m \u001b[0mt\u001b[0m \u001b[0;32min\u001b[0m \u001b[0mtargets\u001b[0m\u001b[0;34m]\u001b[0m\u001b[0;34m\u001b[0m\u001b[0;34m\u001b[0m\u001b[0m\n\u001b[1;32m     12\u001b[0m \u001b[0;34m\u001b[0m\u001b[0m\n\u001b[0;32m---> 13\u001b[0;31m         \u001b[0mloss\u001b[0m \u001b[0;34m=\u001b[0m \u001b[0mmodel\u001b[0m\u001b[0;34m(\u001b[0m\u001b[0mimages\u001b[0m\u001b[0;34m,\u001b[0m \u001b[0mtargets\u001b[0m\u001b[0;34m)\u001b[0m\u001b[0;34m\u001b[0m\u001b[0;34m\u001b[0m\u001b[0m\n\u001b[0m\u001b[1;32m     14\u001b[0m \u001b[0;34m\u001b[0m\u001b[0m\n\u001b[1;32m     15\u001b[0m         \u001b[0mlosses\u001b[0m \u001b[0;34m=\u001b[0m \u001b[0msum\u001b[0m\u001b[0;34m(\u001b[0m\u001b[0ml\u001b[0m \u001b[0;32mfor\u001b[0m \u001b[0ml\u001b[0m \u001b[0;32min\u001b[0m \u001b[0mloss\u001b[0m\u001b[0;34m.\u001b[0m\u001b[0mvalues\u001b[0m\u001b[0;34m(\u001b[0m\u001b[0;34m)\u001b[0m\u001b[0;34m)\u001b[0m\u001b[0;34m\u001b[0m\u001b[0;34m\u001b[0m\u001b[0m\n",
      "\u001b[0;32m/opt/conda/lib/python3.7/site-packages/torch/nn/modules/module.py\u001b[0m in \u001b[0;36m_call_impl\u001b[0;34m(self, *input, **kwargs)\u001b[0m\n\u001b[1;32m   1100\u001b[0m         if not (self._backward_hooks or self._forward_hooks or self._forward_pre_hooks or _global_backward_hooks\n\u001b[1;32m   1101\u001b[0m                 or _global_forward_hooks or _global_forward_pre_hooks):\n\u001b[0;32m-> 1102\u001b[0;31m             \u001b[0;32mreturn\u001b[0m \u001b[0mforward_call\u001b[0m\u001b[0;34m(\u001b[0m\u001b[0;34m*\u001b[0m\u001b[0minput\u001b[0m\u001b[0;34m,\u001b[0m \u001b[0;34m**\u001b[0m\u001b[0mkwargs\u001b[0m\u001b[0;34m)\u001b[0m\u001b[0;34m\u001b[0m\u001b[0;34m\u001b[0m\u001b[0m\n\u001b[0m\u001b[1;32m   1103\u001b[0m         \u001b[0;31m# Do not call functions when jit is used\u001b[0m\u001b[0;34m\u001b[0m\u001b[0;34m\u001b[0m\u001b[0;34m\u001b[0m\u001b[0m\n\u001b[1;32m   1104\u001b[0m         \u001b[0mfull_backward_hooks\u001b[0m\u001b[0;34m,\u001b[0m \u001b[0mnon_full_backward_hooks\u001b[0m \u001b[0;34m=\u001b[0m \u001b[0;34m[\u001b[0m\u001b[0;34m]\u001b[0m\u001b[0;34m,\u001b[0m \u001b[0;34m[\u001b[0m\u001b[0;34m]\u001b[0m\u001b[0;34m\u001b[0m\u001b[0;34m\u001b[0m\u001b[0m\n",
      "\u001b[0;32m/opt/conda/lib/python3.7/site-packages/torchvision/models/detection/generalized_rcnn.py\u001b[0m in \u001b[0;36mforward\u001b[0;34m(self, images, targets)\u001b[0m\n\u001b[1;32m     91\u001b[0m                                      .format(degen_bb, target_idx))\n\u001b[1;32m     92\u001b[0m \u001b[0;34m\u001b[0m\u001b[0m\n\u001b[0;32m---> 93\u001b[0;31m         \u001b[0mfeatures\u001b[0m \u001b[0;34m=\u001b[0m \u001b[0mself\u001b[0m\u001b[0;34m.\u001b[0m\u001b[0mbackbone\u001b[0m\u001b[0;34m(\u001b[0m\u001b[0mimages\u001b[0m\u001b[0;34m.\u001b[0m\u001b[0mtensors\u001b[0m\u001b[0;34m)\u001b[0m\u001b[0;34m\u001b[0m\u001b[0;34m\u001b[0m\u001b[0m\n\u001b[0m\u001b[1;32m     94\u001b[0m         \u001b[0;32mif\u001b[0m \u001b[0misinstance\u001b[0m\u001b[0;34m(\u001b[0m\u001b[0mfeatures\u001b[0m\u001b[0;34m,\u001b[0m \u001b[0mtorch\u001b[0m\u001b[0;34m.\u001b[0m\u001b[0mTensor\u001b[0m\u001b[0;34m)\u001b[0m\u001b[0;34m:\u001b[0m\u001b[0;34m\u001b[0m\u001b[0;34m\u001b[0m\u001b[0m\n\u001b[1;32m     95\u001b[0m             \u001b[0mfeatures\u001b[0m \u001b[0;34m=\u001b[0m \u001b[0mOrderedDict\u001b[0m\u001b[0;34m(\u001b[0m\u001b[0;34m[\u001b[0m\u001b[0;34m(\u001b[0m\u001b[0;34m'0'\u001b[0m\u001b[0;34m,\u001b[0m \u001b[0mfeatures\u001b[0m\u001b[0;34m)\u001b[0m\u001b[0;34m]\u001b[0m\u001b[0;34m)\u001b[0m\u001b[0;34m\u001b[0m\u001b[0;34m\u001b[0m\u001b[0m\n",
      "\u001b[0;32m/opt/conda/lib/python3.7/site-packages/torch/nn/modules/module.py\u001b[0m in \u001b[0;36m_call_impl\u001b[0;34m(self, *input, **kwargs)\u001b[0m\n\u001b[1;32m   1100\u001b[0m         if not (self._backward_hooks or self._forward_hooks or self._forward_pre_hooks or _global_backward_hooks\n\u001b[1;32m   1101\u001b[0m                 or _global_forward_hooks or _global_forward_pre_hooks):\n\u001b[0;32m-> 1102\u001b[0;31m             \u001b[0;32mreturn\u001b[0m \u001b[0mforward_call\u001b[0m\u001b[0;34m(\u001b[0m\u001b[0;34m*\u001b[0m\u001b[0minput\u001b[0m\u001b[0;34m,\u001b[0m \u001b[0;34m**\u001b[0m\u001b[0mkwargs\u001b[0m\u001b[0;34m)\u001b[0m\u001b[0;34m\u001b[0m\u001b[0;34m\u001b[0m\u001b[0m\n\u001b[0m\u001b[1;32m   1103\u001b[0m         \u001b[0;31m# Do not call functions when jit is used\u001b[0m\u001b[0;34m\u001b[0m\u001b[0;34m\u001b[0m\u001b[0;34m\u001b[0m\u001b[0m\n\u001b[1;32m   1104\u001b[0m         \u001b[0mfull_backward_hooks\u001b[0m\u001b[0;34m,\u001b[0m \u001b[0mnon_full_backward_hooks\u001b[0m \u001b[0;34m=\u001b[0m \u001b[0;34m[\u001b[0m\u001b[0;34m]\u001b[0m\u001b[0;34m,\u001b[0m \u001b[0;34m[\u001b[0m\u001b[0;34m]\u001b[0m\u001b[0;34m\u001b[0m\u001b[0;34m\u001b[0m\u001b[0m\n",
      "\u001b[0;32m/opt/conda/lib/python3.7/site-packages/torchvision/models/detection/backbone_utils.py\u001b[0m in \u001b[0;36mforward\u001b[0;34m(self, x)\u001b[0m\n\u001b[1;32m     43\u001b[0m     \u001b[0;32mdef\u001b[0m \u001b[0mforward\u001b[0m\u001b[0;34m(\u001b[0m\u001b[0mself\u001b[0m\u001b[0;34m,\u001b[0m \u001b[0mx\u001b[0m\u001b[0;34m)\u001b[0m\u001b[0;34m:\u001b[0m\u001b[0;34m\u001b[0m\u001b[0;34m\u001b[0m\u001b[0m\n\u001b[1;32m     44\u001b[0m         \u001b[0mx\u001b[0m \u001b[0;34m=\u001b[0m \u001b[0mself\u001b[0m\u001b[0;34m.\u001b[0m\u001b[0mbody\u001b[0m\u001b[0;34m(\u001b[0m\u001b[0mx\u001b[0m\u001b[0;34m)\u001b[0m\u001b[0;34m\u001b[0m\u001b[0;34m\u001b[0m\u001b[0m\n\u001b[0;32m---> 45\u001b[0;31m         \u001b[0mx\u001b[0m \u001b[0;34m=\u001b[0m \u001b[0mself\u001b[0m\u001b[0;34m.\u001b[0m\u001b[0mfpn\u001b[0m\u001b[0;34m(\u001b[0m\u001b[0mx\u001b[0m\u001b[0;34m)\u001b[0m\u001b[0;34m\u001b[0m\u001b[0;34m\u001b[0m\u001b[0m\n\u001b[0m\u001b[1;32m     46\u001b[0m         \u001b[0;32mreturn\u001b[0m \u001b[0mx\u001b[0m\u001b[0;34m\u001b[0m\u001b[0;34m\u001b[0m\u001b[0m\n\u001b[1;32m     47\u001b[0m \u001b[0;34m\u001b[0m\u001b[0m\n",
      "\u001b[0;32m/opt/conda/lib/python3.7/site-packages/torch/nn/modules/module.py\u001b[0m in \u001b[0;36m_call_impl\u001b[0;34m(self, *input, **kwargs)\u001b[0m\n\u001b[1;32m   1100\u001b[0m         if not (self._backward_hooks or self._forward_hooks or self._forward_pre_hooks or _global_backward_hooks\n\u001b[1;32m   1101\u001b[0m                 or _global_forward_hooks or _global_forward_pre_hooks):\n\u001b[0;32m-> 1102\u001b[0;31m             \u001b[0;32mreturn\u001b[0m \u001b[0mforward_call\u001b[0m\u001b[0;34m(\u001b[0m\u001b[0;34m*\u001b[0m\u001b[0minput\u001b[0m\u001b[0;34m,\u001b[0m \u001b[0;34m**\u001b[0m\u001b[0mkwargs\u001b[0m\u001b[0;34m)\u001b[0m\u001b[0;34m\u001b[0m\u001b[0;34m\u001b[0m\u001b[0m\n\u001b[0m\u001b[1;32m   1103\u001b[0m         \u001b[0;31m# Do not call functions when jit is used\u001b[0m\u001b[0;34m\u001b[0m\u001b[0;34m\u001b[0m\u001b[0;34m\u001b[0m\u001b[0m\n\u001b[1;32m   1104\u001b[0m         \u001b[0mfull_backward_hooks\u001b[0m\u001b[0;34m,\u001b[0m \u001b[0mnon_full_backward_hooks\u001b[0m \u001b[0;34m=\u001b[0m \u001b[0;34m[\u001b[0m\u001b[0;34m]\u001b[0m\u001b[0;34m,\u001b[0m \u001b[0;34m[\u001b[0m\u001b[0;34m]\u001b[0m\u001b[0;34m\u001b[0m\u001b[0;34m\u001b[0m\u001b[0m\n",
      "\u001b[0;32m/opt/conda/lib/python3.7/site-packages/torchvision/ops/feature_pyramid_network.py\u001b[0m in \u001b[0;36mforward\u001b[0;34m(self, x)\u001b[0m\n\u001b[1;32m    150\u001b[0m             \u001b[0mfeat_shape\u001b[0m \u001b[0;34m=\u001b[0m \u001b[0minner_lateral\u001b[0m\u001b[0;34m.\u001b[0m\u001b[0mshape\u001b[0m\u001b[0;34m[\u001b[0m\u001b[0;34m-\u001b[0m\u001b[0;36m2\u001b[0m\u001b[0;34m:\u001b[0m\u001b[0;34m]\u001b[0m\u001b[0;34m\u001b[0m\u001b[0;34m\u001b[0m\u001b[0m\n\u001b[1;32m    151\u001b[0m             \u001b[0minner_top_down\u001b[0m \u001b[0;34m=\u001b[0m \u001b[0mF\u001b[0m\u001b[0;34m.\u001b[0m\u001b[0minterpolate\u001b[0m\u001b[0;34m(\u001b[0m\u001b[0mlast_inner\u001b[0m\u001b[0;34m,\u001b[0m \u001b[0msize\u001b[0m\u001b[0;34m=\u001b[0m\u001b[0mfeat_shape\u001b[0m\u001b[0;34m,\u001b[0m \u001b[0mmode\u001b[0m\u001b[0;34m=\u001b[0m\u001b[0;34m\"nearest\"\u001b[0m\u001b[0;34m)\u001b[0m\u001b[0;34m\u001b[0m\u001b[0;34m\u001b[0m\u001b[0m\n\u001b[0;32m--> 152\u001b[0;31m             \u001b[0mlast_inner\u001b[0m \u001b[0;34m=\u001b[0m \u001b[0minner_lateral\u001b[0m \u001b[0;34m+\u001b[0m \u001b[0minner_top_down\u001b[0m\u001b[0;34m\u001b[0m\u001b[0;34m\u001b[0m\u001b[0m\n\u001b[0m\u001b[1;32m    153\u001b[0m             \u001b[0mresults\u001b[0m\u001b[0;34m.\u001b[0m\u001b[0minsert\u001b[0m\u001b[0;34m(\u001b[0m\u001b[0;36m0\u001b[0m\u001b[0;34m,\u001b[0m \u001b[0mself\u001b[0m\u001b[0;34m.\u001b[0m\u001b[0mget_result_from_layer_blocks\u001b[0m\u001b[0;34m(\u001b[0m\u001b[0mlast_inner\u001b[0m\u001b[0;34m,\u001b[0m \u001b[0midx\u001b[0m\u001b[0;34m)\u001b[0m\u001b[0;34m)\u001b[0m\u001b[0;34m\u001b[0m\u001b[0;34m\u001b[0m\u001b[0m\n\u001b[1;32m    154\u001b[0m \u001b[0;34m\u001b[0m\u001b[0m\n",
      "\u001b[0;31mRuntimeError\u001b[0m: CUDA out of memory. Tried to allocate 626.00 MiB (GPU 0; 14.76 GiB total capacity; 12.85 GiB already allocated; 499.75 MiB free; 13.10 GiB reserved in total by PyTorch) If reserved memory is >> allocated memory try setting max_split_size_mb to avoid fragmentation.  See documentation for Memory Management and PYTORCH_CUDA_ALLOC_CONF"
     ]
    }
   ],
   "source": [
    "optimizer = torch.optim.Adam(model.roi_heads.box_predictor.parameters(), lr = 0.005, weight_decay = 0.01)\n",
    "#scheduler = torch.optim.lr_scheduler.MultiStepLR(optimizer, milestones=[2,4], gamma = 0.1)\n",
    "scheduler = torch.optim.lr_scheduler.CosineAnnealingLR(optimizer, T_max = len(train_loader) * 5)\n",
    "v = train(model, train_loader, val_loader, optimizer, scheduler, epochs = 5)"
   ]
  },
  {
   "cell_type": "code",
   "execution_count": 18,
   "id": "b6ad0ea1-9a1d-41ba-a673-ab41ad7cb83f",
   "metadata": {},
   "outputs": [
    {
     "data": {
      "text/plain": [
       "(1401.68117, 376.78104)"
      ]
     },
     "execution_count": 18,
     "metadata": {},
     "output_type": "execute_result"
    }
   ],
   "source": [
    "df.width.mean(), df.height.mean()"
   ]
  }
 ],
 "metadata": {
  "kernelspec": {
   "display_name": "Python 3",
   "language": "python",
   "name": "python3"
  },
  "language_info": {
   "codemirror_mode": {
    "name": "ipython",
    "version": 3
   },
   "file_extension": ".py",
   "mimetype": "text/x-python",
   "name": "python",
   "nbconvert_exporter": "python",
   "pygments_lexer": "ipython3",
   "version": "3.7.12"
  }
 },
 "nbformat": 4,
 "nbformat_minor": 5
}
