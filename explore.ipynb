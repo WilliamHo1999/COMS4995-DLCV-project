{
 "cells": [
  {
   "cell_type": "code",
   "execution_count": 3,
   "id": "909beff8-f60a-4cb6-8660-4286fdcbb88a",
   "metadata": {},
   "outputs": [],
   "source": [
    "import PIL\n",
    "import json\n",
    "import pandas as pd\n",
    "import os\n",
    "import ast\n",
    "import numpy as np\n",
    "import cv2\n",
    "from tqdm import tqdm\n",
    "import random\n",
    "\n",
    "from sklearn.model_selection import train_test_split\n",
    "\n",
    "import torch\n",
    "from torch.utils.data import Dataset, DataLoader\n",
    "import torchvision\n",
    "from torchvision.models.detection.faster_rcnn import FastRCNNPredictor\n",
    "import torch.nn as nn\n",
    "\n",
    "import albumentations as A\n",
    "from albumentations.pytorch import ToTensorV2"
   ]
  },
  {
   "cell_type": "code",
   "execution_count": 30,
   "id": "21618907-8b57-4da1-9515-cc09aa615f4b",
   "metadata": {},
   "outputs": [],
   "source": [
    "params = {\n",
    "    'train_batch':2,\n",
    "    'eval_batch':2,\n",
    "    'lr':0.005\n",
    "}"
   ]
  },
  {
   "cell_type": "code",
   "execution_count": 5,
   "id": "66b14b40-d6ee-459f-868d-b651e5783d45",
   "metadata": {},
   "outputs": [],
   "source": [
    "def seed_everything(seed_value=4995):\n",
    "    os.environ['PYTHONHASHSEED'] = str(seed_value)\n",
    "    random.seed(seed_value)\n",
    "    np.random.seed(seed_value)\n",
    "    torch.manual_seed(seed_value)\n",
    "    torch.cuda.manual_seed_all(seed_value)\n",
    "\n",
    "    torch.backends.cudnn.deterministic = True\n",
    "    torch.backends.cudnn.benchmark = False\n",
    "    \n",
    "seed_everything()"
   ]
  },
  {
   "cell_type": "code",
   "execution_count": 6,
   "id": "a5f890b7-842d-4595-b253-e31137a2aaf4",
   "metadata": {},
   "outputs": [],
   "source": [
    "DEVICE = torch.device(\"cuda\" if torch.cuda.is_available() else \"cpu\")"
   ]
  },
  {
   "cell_type": "code",
   "execution_count": 7,
   "id": "746e677c-dd9c-428f-8632-a29c625c1a60",
   "metadata": {},
   "outputs": [
    {
     "data": {
      "text/plain": [
       "device(type='cpu')"
      ]
     },
     "execution_count": 7,
     "metadata": {},
     "output_type": "execute_result"
    }
   ],
   "source": [
    "DEVICE"
   ]
  },
  {
   "cell_type": "code",
   "execution_count": 8,
   "id": "9997d484-af1b-45b4-9837-adb39d6bce85",
   "metadata": {},
   "outputs": [],
   "source": [
    "class HandwrittenDataset(Dataset):\n",
    "    \n",
    "    def __init__(self, df, visible_char_mapping, transform = None, image_resize = (1000,500)):\n",
    "        \n",
    "        self.data = list(df.itertuples(index=False))\n",
    "        self.transform = transform\n",
    "        self.to_tensor = torchvision.transforms.ToTensor()\n",
    "        \n",
    "        self.visible_char_mapping = visible_char_mapping\n",
    "        \n",
    "    def __len__(self):\n",
    "        return len(self.data)\n",
    "    \n",
    "    def __getitem__(self, index):\n",
    "        \n",
    "        sample = self.data[index]\n",
    "        \n",
    "        f_name = sample.filename\n",
    "        image = PIL.Image.open(f_name).convert(\"RGB\")\n",
    "        #image = cv2.imread(f_name)\n",
    "        #image = cv2.cvtColor(image, cv2.COLOR_BGR2RGB)\n",
    "        #image = cv2.resize(image, (800, 376))\n",
    "        #image_width = image.shape[1]\n",
    "        #image_height = image.shape[0]\n",
    "        \n",
    "        image = np.asarray(image)\n",
    "        #height = sample.height\n",
    "        #width = sample.width\n",
    "        visible_latex_chars = sample.visible_latex_chars\n",
    "        xmaxs = np.array(sample.xmaxs)\n",
    "        xmins = np.array(sample.xmins)\n",
    "        ymaxs = np.array(sample.ymaxs)\n",
    "        ymins = np.array(sample.ymins)\n",
    "        \n",
    "        #xmins = (xmins/image_width)*1401\n",
    "        #xmaxs = (xmaxs/image_width)*1401\n",
    "        #ymins = (ymins/image_height)*376\n",
    "        #ymaxs = (ymaxs/image_height)*376\n",
    "        \n",
    "        boxes = []\n",
    "        for box in zip(xmins, ymins, xmaxs, ymaxs):\n",
    "            boxes.append(list(box))\n",
    "        \n",
    "        boxes = torch.as_tensor(boxes, dtype = torch.float32)\n",
    "        labels = [*map(self.visible_char_mapping.get, visible_latex_chars)]\n",
    "        labels = torch.as_tensor(labels, dtype = torch.int64)\n",
    "        if self.transform:\n",
    "            transformed_sample = self.transform(image =  image,\n",
    "                                     bboxes = boxes,\n",
    "                                     labels = labels)\n",
    "            image = self.to_tensor(transformed_sample['image'])\n",
    "            #image = transformed_sample['image']\n",
    "            boxes = torch.Tensor(transformed_sample['bboxes'])\n",
    "        else:\n",
    "            image = self.to_tensor(image)\n",
    "            boxes = torch.Tensor(boxes)\n",
    "       \n",
    "        targets = {\n",
    "            'boxes':boxes,\n",
    "            'labels':labels\n",
    "        }\n",
    "\n",
    "        return image, targets\n",
    "    \n",
    "def collate_fn(batch):\n",
    "    \"\"\"\n",
    "    To handle the data loading as different images may have different number \n",
    "    of objects and to handle varying size tensors as well.\n",
    "    \"\"\"\n",
    "    return tuple(zip(*batch))"
   ]
  },
  {
   "cell_type": "code",
   "execution_count": 9,
   "id": "cb4774bc-a7e8-4650-b432-2784bc9048d5",
   "metadata": {},
   "outputs": [],
   "source": [
    "def create_data_frame(raw_data, image_path):\n",
    "    \"\"\"\n",
    "    Create a Pandas DataFrame and a list for all the latex expressions\n",
    "\n",
    "    Parameters\n",
    "    ----------\n",
    "    raw_data : list\n",
    "        A list that contains all the image information\n",
    "\n",
    "    Returns\n",
    "    ----------\n",
    "    df: DataFrame\n",
    "        A Pandas DataFrame for running the analysis\n",
    "    all_latex_lst: list\n",
    "        A list for all the tokens, used for creating the token distribution\n",
    "    \"\"\"\n",
    "    data = {}\n",
    "    data['latex'] = []\n",
    "    data['seq_len'] = []\n",
    "    data['latex_string'] = []\n",
    "    data['visible_latex_chars'] = []\n",
    "    data['filename'] = []\n",
    "    data['width'] = []\n",
    "    data['height'] = []\n",
    "    data['xmins_raw'] = []\n",
    "    data['xmaxs_raw'] = []\n",
    "    data['ymins_raw'] = []\n",
    "    data['ymaxs_raw'] = []\n",
    "    data['xmins'] = []\n",
    "    data['xmaxs'] = []\n",
    "    data['ymins'] = []\n",
    "    data['ymaxs'] = []\n",
    "    \n",
    "    for image in raw_data:\n",
    "        data['latex_string'].append(image['latex'])\n",
    "        data['latex'].append(image['image_data']['full_latex_chars'])\n",
    "        data['seq_len'].append(len(image['image_data']['full_latex_chars']))\n",
    "        data['visible_latex_chars'].append(image['image_data']['visible_latex_chars'])\n",
    "        data['filename'].append(os.path.join(image_path, image['filename']))\n",
    "        data['xmins_raw'].append(image['image_data']['xmins_raw'])\n",
    "        data['xmaxs_raw'].append(image['image_data']['xmaxs_raw'])\n",
    "        data['ymins_raw'].append(image['image_data']['ymins_raw'])\n",
    "        data['ymaxs_raw'].append(image['image_data']['ymaxs_raw'])\n",
    "        data['xmins'].append(image['image_data']['xmins'])\n",
    "        data['xmaxs'].append(image['image_data']['xmaxs'])\n",
    "        data['ymins'].append(image['image_data']['ymins'])\n",
    "        data['ymaxs'].append(image['image_data']['ymaxs'])\n",
    "        \n",
    "        data['width'].append(image['image_data']['width'])\n",
    "        data['height'].append(image['image_data']['height'])\n",
    "\n",
    "\n",
    "    df = pd.DataFrame.from_dict(data)\n",
    "    return df"
   ]
  },
  {
   "cell_type": "code",
   "execution_count": 10,
   "id": "079aea91-293d-4f14-bcc4-e2848d5d38e3",
   "metadata": {},
   "outputs": [],
   "source": [
    "def load_data(path = 'data/all_data.csv'):\n",
    "    if not os.path.isfile(path):\n",
    "        df = pd.DataFrame()\n",
    "        for i in range(1,11):\n",
    "            print(f'data/batch_{i}/JSON/kaggle_data_{i}.json')\n",
    "            with open(file=f'data/batch_{i}/JSON/kaggle_data_{i}.json') as f:\n",
    "                raw_data = json.load(f)\n",
    "            sub_df = create_data_frame(raw_data, f'data/batch_{i}/background_images')\n",
    "            df = df.append(sub_df)\n",
    "        df.to_csv(path)\n",
    "        df = pd.read_csv(path).drop(columns = 'Unnamed: 0')\n",
    "    else:\n",
    "        df = pd.read_csv(path).drop(columns = 'Unnamed: 0')\n",
    "\n",
    "    list_cols = ['xmins_raw', 'xmaxs_raw', 'ymins_raw', 'ymaxs_raw', 'xmins', 'xmaxs', 'ymins', 'ymaxs']\n",
    "    for c in list_cols:\n",
    "        df[c] = df[c].apply(json.loads)\n",
    "\n",
    "    df['latex'] = df['latex'].replace(\"'\\\\\\\\\", \"'\\\\\")\n",
    "    df['latex'] = df['latex'].apply(ast.literal_eval)\n",
    "    \n",
    "    #vocab = df['latex'].explode().unique().tolist()[0]\n",
    "    df['visible_latex_chars'] = df['visible_latex_chars'].replace(\"'\\\\\\\\\", \"'\\\\\")\n",
    "    df['visible_latex_chars'] = df['visible_latex_chars'].apply(ast.literal_eval)\n",
    "    \n",
    "    with open(file=f'data/extras/visible_char_map.json') as f:\n",
    "        visible_char_map = json.load(f)\n",
    "    \n",
    "    return df, visible_char_map"
   ]
  },
  {
   "cell_type": "code",
   "execution_count": 11,
   "id": "4fa33a7f-f4cc-40c3-b183-9e66081447c5",
   "metadata": {},
   "outputs": [],
   "source": [
    "def split_dataframe(df):\n",
    "    X_train, X_test = train_test_split(df, test_size=0.20, random_state=4995)\n",
    "    \n",
    "    return X_train, X_test\n",
    "\n",
    "def prepare_data(batch_size = 32):\n",
    "    \n",
    "    df, visible_char_map = load_data()\n",
    "    \n",
    "    # num_classes = len(visible_char_map)\n",
    "    \n",
    "    l = []\n",
    "    for i in df['visible_latex_chars'].tolist():\n",
    "        for j in i:\n",
    "            l.append(j)\n",
    "    \n",
    "    classes = sorted(list(set(l)))\n",
    "    num_classes = len(set(l)) + 1\n",
    "    \n",
    "    visible_char_map = {}\n",
    "    for idx, symbol in enumerate(classes):\n",
    "        visible_char_map[symbol] = idx + 1 \n",
    "    \n",
    "    return df, visible_char_map, num_classes, classes\n",
    "\n",
    "def build_dataloaders(df, visible_char_map, batch_size = 32):\n",
    "    train_transforms = A.Compose([\n",
    "      # A.Flip(0.5),\n",
    "        A.Resize(896, 896), \n",
    "        A.ShiftScaleRotate(rotate_limit = 10)\n",
    "        #A.Normalize(),\n",
    "     #   A.RandomRotate90(0.5),\n",
    "     #   A.MotionBlur(p=0.2),\n",
    "     #   A.MedianBlur(blur_limit=3, p=0.1),\n",
    "     #   A.Blur(blur_limit=3, p=0.1),\n",
    "        #ToTensorV2(p=1),\n",
    "        ],\n",
    "        bbox_params={\n",
    "                'format': 'albumentations',\n",
    "                'label_fields': ['labels']\n",
    "    })\n",
    "    \n",
    "    val_transforms = A.Compose([\n",
    "        A.Resize(896, 896), \n",
    "        A.ShiftScaleRotate(rotate_limit = 10)\n",
    "\n",
    "        #A.Normalize(),\n",
    "    ], bbox_params={\n",
    "        'format': 'albumentations', \n",
    "        'label_fields': ['labels']\n",
    "    })\n",
    "    \n",
    "    train_df, val_df = split_dataframe(df)\n",
    "    \n",
    "    train_dataset = HandwrittenDataset(train_df, visible_char_map, transform = train_transforms)\n",
    "    train_loader = DataLoader(train_dataset, batch_size = batch_size, shuffle = True, num_workers=0, collate_fn = collate_fn)\n",
    "    \n",
    "    val_dataset = HandwrittenDataset(val_df, visible_char_map)\n",
    "    val_loader = DataLoader(val_dataset, batch_size = batch_size, shuffle = False, num_workers=0, collate_fn = collate_fn)\n",
    "    \n",
    "    return train_loader, val_loader"
   ]
  },
  {
   "cell_type": "code",
   "execution_count": 12,
   "id": "a3d065a4-829e-405e-9f61-5ab4a6b4ba46",
   "metadata": {},
   "outputs": [],
   "source": [
    "def build_model(num_classes, model_path = None):\n",
    "    if not model_path:\n",
    "        model = torchvision.models.detection.fasterrcnn_resnet50_fpn(pretrained = True, pretrained_backbone = True)\n",
    "        in_features = model.roi_heads.box_predictor.cls_score.in_features\n",
    "        model.roi_heads.box_predictor = FastRCNNPredictor(in_features, num_classes)\n",
    "        #model.roi_heads.box_predictor.bbox_pred = torch.nn.Linear(\n",
    "        #    in_features=in_features, out_features=num_classes*4, bias=True\n",
    "        #)\n",
    "\n",
    "    else:\n",
    "        model = torchvision.models.detection.fasterrcnn_resnet50_fpn()\n",
    "        in_features = model.roi_heads.box_predictor.cls_score.in_features\n",
    "        model.roi_heads.box_predictor = FastRCNNPredictor(in_features, num_classes)\n",
    "        model.load_state_dict(torch.load(model_path))\n",
    "        \n",
    "        \n",
    "    model = model.to(DEVICE)\n",
    "    return model"
   ]
  },
  {
   "cell_type": "code",
   "execution_count": 13,
   "id": "b91f55a7-3b56-48e9-9aff-7a8141257988",
   "metadata": {
    "tags": []
   },
   "outputs": [],
   "source": [
    "df, visible_char_map, num_classes, classes = prepare_data()"
   ]
  },
  {
   "cell_type": "code",
   "execution_count": 14,
   "id": "a8579e3e-be8b-4d31-94c7-d01465bf8149",
   "metadata": {},
   "outputs": [],
   "source": [
    "from sklearn.utils import shuffle\n",
    "red_df = shuffle(df, random_state = 1)"
   ]
  },
  {
   "cell_type": "code",
   "execution_count": 15,
   "id": "f4093901-13d4-4c3f-ac6e-be68c1e97c5c",
   "metadata": {},
   "outputs": [],
   "source": [
    "red_df = red_df[:5000]"
   ]
  },
  {
   "cell_type": "code",
   "execution_count": 16,
   "id": "0820b847-2d98-4d4c-a134-16e79fcf0166",
   "metadata": {},
   "outputs": [],
   "source": [
    "train_loader, val_loader = build_dataloaders(red_df, visible_char_map, batch_size = params['train_batch'])"
   ]
  },
  {
   "cell_type": "code",
   "execution_count": 17,
   "id": "2a14f54d-bded-4440-a3f0-efdb293b5581",
   "metadata": {},
   "outputs": [],
   "source": [
    "model = build_model(num_classes)"
   ]
  },
  {
   "cell_type": "code",
   "execution_count": 18,
   "id": "51a4b9b4-3da7-4e04-b007-99eb1a86efd7",
   "metadata": {
    "tags": []
   },
   "outputs": [],
   "source": [
    "for n, param in model.named_parameters():\n",
    "    if \"roi_heads.box_predictor\" not in n and 'rpn.head' not in n:\n",
    "        param.requires_grad = False"
   ]
  },
  {
   "cell_type": "code",
   "execution_count": 19,
   "id": "e59274a4-5527-40b3-9d22-0968daf462c0",
   "metadata": {},
   "outputs": [],
   "source": [
    "def train_loop(model, train_loader, optimizer, scheduler):\n",
    "    model = model.train()\n",
    "    \n",
    "    train_loss_list = []\n",
    "    \n",
    "    for i, data in enumerate(tqdm(train_loader)):\n",
    "        optimizer.zero_grad()\n",
    "        images, targets = data\n",
    "        \n",
    "        images = list(image.to(DEVICE) for image in images)\n",
    "        targets = [{k: v.to(DEVICE) for k, v in t.items()} for t in targets]\n",
    "        \n",
    "        loss = model(images, targets)\n",
    "        \n",
    "        losses = sum(l for l in loss.values())\n",
    "        \n",
    "        loss_value = losses.item()\n",
    "        train_loss_list.append(loss_value)\n",
    "        \n",
    "        losses.backward()\n",
    "        optimizer.step()\n",
    "        scheduler.step()\n",
    "        \n",
    "        if i % 10 == 0:\n",
    "            print(loss_value)\n",
    "    \n",
    "    return np.mean(train_loss_list)"
   ]
  },
  {
   "cell_type": "code",
   "execution_count": 20,
   "id": "a43694ea-a96a-4dfb-912e-0ddd3964258a",
   "metadata": {},
   "outputs": [],
   "source": [
    "def val_loop(model, val_loader):\n",
    "    \n",
    "    #model = model.eval()\n",
    "    model = model.train()\n",
    "    val_loss_list = []\n",
    "    \n",
    "    with torch.no_grad():\n",
    "        for i, data in enumerate(tqdm(val_loader)):\n",
    "            images, targets = data\n",
    "\n",
    "            images = list(image.to(DEVICE) for image in images)\n",
    "            targets = [{k: v.to(DEVICE) for k, v in t.items()} for t in targets]\n",
    "\n",
    "            loss = model(images, targets)\n",
    "\n",
    "            losses = sum(l for l in loss.values())\n",
    "\n",
    "            loss_value = losses.item()\n",
    "            val_loss_list.append(loss_value)\n",
    "            \n",
    "    loss_mean = np.mean(val_loss_list)\n",
    "    print(\"Eval loss:\",loss_mean)\n",
    "        \n",
    "    return loss_mean"
   ]
  },
  {
   "cell_type": "code",
   "execution_count": 21,
   "id": "476383cd-871f-4e62-9316-62ba817c5b4f",
   "metadata": {},
   "outputs": [],
   "source": [
    "def train(model, train_loader, val_loader, optimizer, scheduler, epochs = 5,  model_name = 'fastrcnn', save_path = 'models'):\n",
    "    \n",
    "    train_losses = []\n",
    "    val_losses = []\n",
    "    \n",
    "    best_val_loss = None\n",
    "    \n",
    "    for epoch in range(epochs):\n",
    "        train_losses.append(train_loop(model, train_loader, optimizer, scheduler))\n",
    "        print(\"Train loss:\",train_losses[-1])\n",
    "        val_loss = val_loop(model, val_loader)\n",
    "        val_losses.append(val_loss)\n",
    "        #scheduler.step()\n",
    "        \n",
    "        if not best_val_loss:\n",
    "            best_val_loss = val_loss\n",
    "            \n",
    "            model_name_pt = model_name+'.pt'\n",
    "            PATH = os.path.join(save_path, model_name_pt)\n",
    "            model.to('cpu')\n",
    "            #torch.save(model.state_dict(), PATH)\n",
    "            torch.save({\n",
    "            'epoch': epoch+1,\n",
    "            'model_state_dict': model.state_dict(),\n",
    "            'optimizer_state_dict': optimizer.state_dict(),\n",
    "            }, PATH)\n",
    "            model.to(DEVICE)\n",
    "            \n",
    "        else:\n",
    "            if val_loss < best_val_loss:\n",
    "                best_val_loss = val_loss\n",
    "                \n",
    "                model_name_pt = model_name+'.pt'\n",
    "                PATH = os.path.join(save_path, model_name_pt)\n",
    "                model.to('cpu')\n",
    "                torch.save(model.state_dict(), PATH)\n",
    "                model.to(DEVICE)\n",
    "    \n",
    "    return train_losses, val_losses"
   ]
  },
  {
   "cell_type": "code",
   "execution_count": null,
   "id": "5fb6dfa3-e60c-4b9b-b86a-d0d88ffbdd18",
   "metadata": {
    "scrolled": true,
    "tags": []
   },
   "outputs": [
    {
     "name": "stderr",
     "output_type": "stream",
     "text": [
      "  0%|                                                                                                                                  | 0/2000 [00:00<?, ?it/s]/opt/conda/lib/python3.7/site-packages/torch/functional.py:445: UserWarning: torch.meshgrid: in an upcoming release, it will be required to pass the indexing argument. (Triggered internally at  /opt/conda/conda-bld/pytorch_1634272178570/work/aten/src/ATen/native/TensorShape.cpp:2157.)\n",
      "  return _VF.meshgrid(tensors, **kwargs)  # type: ignore[attr-defined]\n"
     ]
    },
    {
     "name": "stdout",
     "output_type": "stream",
     "text": [
      "{'loss_classifier': tensor(4.2956, grad_fn=<NllLossBackward0>), 'loss_box_reg': tensor(0.0636, grad_fn=<DivBackward0>), 'loss_objectness': tensor(2.1065, grad_fn=<BinaryCrossEntropyWithLogitsBackward0>), 'loss_rpn_box_reg': tensor(1.2324, grad_fn=<DivBackward0>)}\n"
     ]
    },
    {
     "name": "stderr",
     "output_type": "stream",
     "text": [
      "  0%|                                                                                                                        | 1/2000 [00:12<7:11:55, 12.96s/it]"
     ]
    },
    {
     "name": "stdout",
     "output_type": "stream",
     "text": [
      "7.6980814933776855\n",
      "{'loss_classifier': tensor(0.5394, grad_fn=<NllLossBackward0>), 'loss_box_reg': tensor(0.1049, grad_fn=<DivBackward0>), 'loss_objectness': tensor(14.0216, grad_fn=<BinaryCrossEntropyWithLogitsBackward0>), 'loss_rpn_box_reg': tensor(3.1933, grad_fn=<DivBackward0>)}\n"
     ]
    },
    {
     "name": "stderr",
     "output_type": "stream",
     "text": [
      "  0%|                                                                                                                        | 2/2000 [00:25<7:02:51, 12.70s/it]"
     ]
    },
    {
     "name": "stdout",
     "output_type": "stream",
     "text": [
      "{'loss_classifier': tensor(0.1870, grad_fn=<NllLossBackward0>), 'loss_box_reg': tensor(0.0980, grad_fn=<DivBackward0>), 'loss_objectness': tensor(0.7406, grad_fn=<BinaryCrossEntropyWithLogitsBackward0>), 'loss_rpn_box_reg': tensor(1.5498, grad_fn=<DivBackward0>)}\n"
     ]
    },
    {
     "name": "stderr",
     "output_type": "stream",
     "text": [
      "  0%|▏                                                                                                                       | 3/2000 [00:38<7:04:32, 12.76s/it]"
     ]
    },
    {
     "name": "stdout",
     "output_type": "stream",
     "text": [
      "{'loss_classifier': tensor(0.6037, grad_fn=<NllLossBackward0>), 'loss_box_reg': tensor(0.3317, grad_fn=<DivBackward0>), 'loss_objectness': tensor(0.1077, grad_fn=<BinaryCrossEntropyWithLogitsBackward0>), 'loss_rpn_box_reg': tensor(0.4848, grad_fn=<DivBackward0>)}\n"
     ]
    },
    {
     "name": "stderr",
     "output_type": "stream",
     "text": [
      "  0%|▏                                                                                                                       | 4/2000 [00:51<7:16:38, 13.13s/it]"
     ]
    },
    {
     "name": "stdout",
     "output_type": "stream",
     "text": [
      "{'loss_classifier': tensor(0.5544, grad_fn=<NllLossBackward0>), 'loss_box_reg': tensor(0.2730, grad_fn=<DivBackward0>), 'loss_objectness': tensor(0.9946, grad_fn=<BinaryCrossEntropyWithLogitsBackward0>), 'loss_rpn_box_reg': tensor(0.8221, grad_fn=<DivBackward0>)}\n"
     ]
    },
    {
     "name": "stderr",
     "output_type": "stream",
     "text": [
      "  0%|▎                                                                                                                       | 5/2000 [01:04<7:12:26, 13.01s/it]"
     ]
    },
    {
     "name": "stdout",
     "output_type": "stream",
     "text": [
      "{'loss_classifier': tensor(0.3244, grad_fn=<NllLossBackward0>), 'loss_box_reg': tensor(0.1172, grad_fn=<DivBackward0>), 'loss_objectness': tensor(0.9987, grad_fn=<BinaryCrossEntropyWithLogitsBackward0>), 'loss_rpn_box_reg': tensor(0.7377, grad_fn=<DivBackward0>)}\n"
     ]
    },
    {
     "name": "stderr",
     "output_type": "stream",
     "text": [
      "  0%|▎                                                                                                                       | 6/2000 [01:17<7:06:59, 12.85s/it]"
     ]
    },
    {
     "name": "stdout",
     "output_type": "stream",
     "text": [
      "{'loss_classifier': tensor(0.4750, grad_fn=<NllLossBackward0>), 'loss_box_reg': tensor(0.2149, grad_fn=<DivBackward0>), 'loss_objectness': tensor(0.8288, grad_fn=<BinaryCrossEntropyWithLogitsBackward0>), 'loss_rpn_box_reg': tensor(0.4300, grad_fn=<DivBackward0>)}\n"
     ]
    },
    {
     "name": "stderr",
     "output_type": "stream",
     "text": [
      "  0%|▍                                                                                                                       | 7/2000 [01:30<7:07:46, 12.88s/it]"
     ]
    },
    {
     "name": "stdout",
     "output_type": "stream",
     "text": [
      "{'loss_classifier': tensor(0.4818, grad_fn=<NllLossBackward0>), 'loss_box_reg': tensor(0.2398, grad_fn=<DivBackward0>), 'loss_objectness': tensor(0.4583, grad_fn=<BinaryCrossEntropyWithLogitsBackward0>), 'loss_rpn_box_reg': tensor(0.2945, grad_fn=<DivBackward0>)}\n"
     ]
    },
    {
     "name": "stderr",
     "output_type": "stream",
     "text": [
      "  0%|▍                                                                                                                       | 8/2000 [01:43<7:16:21, 13.14s/it]"
     ]
    },
    {
     "name": "stdout",
     "output_type": "stream",
     "text": [
      "{'loss_classifier': tensor(0.2370, grad_fn=<NllLossBackward0>), 'loss_box_reg': tensor(0.0797, grad_fn=<DivBackward0>), 'loss_objectness': tensor(0.1264, grad_fn=<BinaryCrossEntropyWithLogitsBackward0>), 'loss_rpn_box_reg': tensor(0.3112, grad_fn=<DivBackward0>)}\n"
     ]
    },
    {
     "name": "stderr",
     "output_type": "stream",
     "text": [
      "  0%|▌                                                                                                                       | 9/2000 [01:56<7:10:27, 12.97s/it]"
     ]
    },
    {
     "name": "stdout",
     "output_type": "stream",
     "text": [
      "{'loss_classifier': tensor(0.2873, grad_fn=<NllLossBackward0>), 'loss_box_reg': tensor(0.1050, grad_fn=<DivBackward0>), 'loss_objectness': tensor(0.0107, grad_fn=<BinaryCrossEntropyWithLogitsBackward0>), 'loss_rpn_box_reg': tensor(0.3130, grad_fn=<DivBackward0>)}\n"
     ]
    },
    {
     "name": "stderr",
     "output_type": "stream",
     "text": [
      "  0%|▌                                                                                                                      | 10/2000 [02:18<8:41:36, 15.73s/it]"
     ]
    },
    {
     "name": "stdout",
     "output_type": "stream",
     "text": [
      "{'loss_classifier': tensor(0.6174, grad_fn=<NllLossBackward0>), 'loss_box_reg': tensor(0.3861, grad_fn=<DivBackward0>), 'loss_objectness': tensor(0.0120, grad_fn=<BinaryCrossEntropyWithLogitsBackward0>), 'loss_rpn_box_reg': tensor(0.4741, grad_fn=<DivBackward0>)}\n"
     ]
    },
    {
     "name": "stderr",
     "output_type": "stream",
     "text": [
      "  1%|▋                                                                                                                     | 11/2000 [02:47<10:51:17, 19.65s/it]"
     ]
    },
    {
     "name": "stdout",
     "output_type": "stream",
     "text": [
      "1.4896540641784668\n"
     ]
    }
   ],
   "source": [
    "train_params = [p for p in model.parameters() if p.requires_grad]\n",
    "optimizer = torch.optim.Adam(train_params, lr = params['lr'], weight_decay = 0.01)\n",
    "#scheduler = torch.optim.lr_scheduler.MultiStepLR(optimizer, milestones=[2,4], gamma = 0.1)\n",
    "scheduler = torch.optim.lr_scheduler.CosineAnnealingLR(optimizer, T_max = len(train_loader) * 5)\n",
    "train_losses, val_losses = train(model, train_loader, val_loader, optimizer, scheduler, epochs = 5)"
   ]
  },
  {
   "cell_type": "code",
   "execution_count": null,
   "id": "240352de-8ac6-4ae9-ae34-317e1a3021d0",
   "metadata": {},
   "outputs": [],
   "source": []
  },
  {
   "cell_type": "code",
   "execution_count": null,
   "id": "0f9fb8bd-4d29-4a29-a250-c4a8571378b8",
   "metadata": {},
   "outputs": [],
   "source": []
  },
  {
   "cell_type": "code",
   "execution_count": null,
   "id": "d0c2bbd7-578d-4dfe-897d-d44ea50429e3",
   "metadata": {},
   "outputs": [],
   "source": []
  },
  {
   "cell_type": "code",
   "execution_count": 18,
   "id": "b6ad0ea1-9a1d-41ba-a673-ab41ad7cb83f",
   "metadata": {},
   "outputs": [
    {
     "data": {
      "text/plain": [
       "(1401.68117, 376.78104)"
      ]
     },
     "execution_count": 18,
     "metadata": {},
     "output_type": "execute_result"
    }
   ],
   "source": [
    "df.width.mean(), df.height.mean()"
   ]
  }
 ],
 "metadata": {
  "kernelspec": {
   "display_name": "Python 3",
   "language": "python",
   "name": "python3"
  },
  "language_info": {
   "codemirror_mode": {
    "name": "ipython",
    "version": 3
   },
   "file_extension": ".py",
   "mimetype": "text/x-python",
   "name": "python",
   "nbconvert_exporter": "python",
   "pygments_lexer": "ipython3",
   "version": "3.7.12"
  }
 },
 "nbformat": 4,
 "nbformat_minor": 5
}
